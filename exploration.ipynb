{
 "cells": [
  {
   "cell_type": "code",
   "execution_count": 2,
   "metadata": {},
   "outputs": [
    {
     "name": "stderr",
     "output_type": "stream",
     "text": [
      "/home/sofus/.local/lib/python3.9/site-packages/geopandas/_compat.py:111: UserWarning: The Shapely GEOS version (3.9.1-CAPI-1.14.2) is incompatible with the GEOS version PyGEOS was compiled with (3.10.1-CAPI-1.16.0). Conversions between both will be slow.\n",
      "  warnings.warn(\n"
     ]
    }
   ],
   "source": [
    "from pyrosm import get_data, OSM\n",
    "import numpy as np\n",
    "import pandas as pd\n",
    "import geopandas as gpd\n",
    "from queue import PriorityQueue"
   ]
  },
  {
   "cell_type": "code",
   "execution_count": 3,
   "metadata": {},
   "outputs": [],
   "source": [
    "class Graph:\n",
    "    def __init__(self, vertices : list, edges : list, neighbours : dict, weights : dict, positions : dict):\n",
    "        self.vertices = vertices\n",
    "        self.edges = edges\n",
    "        self.neighbours = neighbours\n",
    "        self.weights = weights\n",
    "        self.positions = positions"
   ]
  },
  {
   "cell_type": "code",
   "execution_count": 30,
   "metadata": {},
   "outputs": [],
   "source": [
    "def Dijkstra(G : Graph, source, target):\n",
    "    dist = {source: 0}\n",
    "    prev = {}\n",
    "    Q = PriorityQueue()\n",
    "    for v in G.vertices:\n",
    "        if v != source:\n",
    "            dist[v] = np.inf\n",
    "            prev[v] = np.inf\n",
    "        \n",
    "        Q.put((dist[v], v))\n",
    "    \n",
    "    print(type(Q.queue))\n",
    "    \n",
    "    while not Q.empty():\n",
    "        w, u = Q.get()\n",
    "        if u in G.neighbours.keys():\n",
    "            for v in G.neighbours[u]:\n",
    "                alt = dist[u] + G.weights[(u, v)]\n",
    "                if alt < dist[v]:\n",
    "                    Q.queue.remove((dist[v], v))\n",
    "                    dist[v] = alt\n",
    "                    prev[v] = u\n",
    "                    Q.put((dist[v], v))\n",
    "    \n",
    "    return dist, prev"
   ]
  },
  {
   "cell_type": "code",
   "execution_count": 21,
   "metadata": {},
   "outputs": [],
   "source": [
    "fp = get_data(\"copenhagen\")\n",
    "osm = OSM(fp)\n",
    "raw_vertices, raw_edges = osm.get_network(\"driving\", nodes=True)\n",
    "vertices = []\n",
    "positions = {}\n",
    "for i, lon, lat in zip(raw_vertices[\"id\"], raw_vertices[\"lon\"], raw_vertices[\"lat\"]):\n",
    "    vertices.append(i)\n",
    "    positions[i] = (lon, lat)\n",
    "\n",
    "edges = []\n",
    "neighbours = {}\n",
    "weights = {}\n",
    "for u, v, length in zip(raw_edges[\"u\"], raw_edges[\"v\"], raw_edges[\"length\"]):\n",
    "    edges.append((u, v))\n",
    "    weights[(u, v)] = length\n",
    "\n",
    "    if u in neighbours.keys():\n",
    "        neighbours[u] += [v]\n",
    "    else:\n",
    "        neighbours[u] = [v]"
   ]
  },
  {
   "cell_type": "code",
   "execution_count": 31,
   "metadata": {},
   "outputs": [
    {
     "name": "stdout",
     "output_type": "stream",
     "text": [
      "<class 'list'>\n"
     ]
    },
    {
     "ename": "ValueError",
     "evalue": "list.remove(x): x not in list",
     "output_type": "error",
     "traceback": [
      "\u001b[0;31m---------------------------------------------------------------------------\u001b[0m",
      "\u001b[0;31mValueError\u001b[0m                                Traceback (most recent call last)",
      "\u001b[1;32m/home/sofus/git/pathfinder/exploration.ipynb Cell 5'\u001b[0m in \u001b[0;36m<module>\u001b[0;34m\u001b[0m\n\u001b[1;32m      <a href='vscode-notebook-cell:/home/sofus/git/pathfinder/exploration.ipynb#ch0000008?line=1'>2</a>\u001b[0m target \u001b[39m=\u001b[39m \u001b[39m687890\u001b[39m\n\u001b[1;32m      <a href='vscode-notebook-cell:/home/sofus/git/pathfinder/exploration.ipynb#ch0000008?line=2'>3</a>\u001b[0m G \u001b[39m=\u001b[39m Graph(vertices, edges, neighbours, weights, positions)\n\u001b[0;32m----> <a href='vscode-notebook-cell:/home/sofus/git/pathfinder/exploration.ipynb#ch0000008?line=3'>4</a>\u001b[0m dist, prev \u001b[39m=\u001b[39m Dijkstra(G, source, target)\n\u001b[1;32m      <a href='vscode-notebook-cell:/home/sofus/git/pathfinder/exploration.ipynb#ch0000008?line=4'>5</a>\u001b[0m prev\n",
      "\u001b[1;32m/home/sofus/git/pathfinder/exploration.ipynb Cell 3'\u001b[0m in \u001b[0;36mDijkstra\u001b[0;34m(G, source, target)\u001b[0m\n\u001b[1;32m     <a href='vscode-notebook-cell:/home/sofus/git/pathfinder/exploration.ipynb#ch0000003?line=17'>18</a>\u001b[0m alt \u001b[39m=\u001b[39m dist[u] \u001b[39m+\u001b[39m G\u001b[39m.\u001b[39mweights[(u, v)]\n\u001b[1;32m     <a href='vscode-notebook-cell:/home/sofus/git/pathfinder/exploration.ipynb#ch0000003?line=18'>19</a>\u001b[0m \u001b[39mif\u001b[39;00m alt \u001b[39m<\u001b[39m dist[v]:\n\u001b[0;32m---> <a href='vscode-notebook-cell:/home/sofus/git/pathfinder/exploration.ipynb#ch0000003?line=19'>20</a>\u001b[0m     Q\u001b[39m.\u001b[39;49mqueue\u001b[39m.\u001b[39;49mremove((dist[v], v))\n\u001b[1;32m     <a href='vscode-notebook-cell:/home/sofus/git/pathfinder/exploration.ipynb#ch0000003?line=20'>21</a>\u001b[0m     dist[v] \u001b[39m=\u001b[39m alt\n\u001b[1;32m     <a href='vscode-notebook-cell:/home/sofus/git/pathfinder/exploration.ipynb#ch0000003?line=21'>22</a>\u001b[0m     prev[v] \u001b[39m=\u001b[39m u\n",
      "\u001b[0;31mValueError\u001b[0m: list.remove(x): x not in list"
     ]
    }
   ],
   "source": [
    "source = 25981317\n",
    "target = 687890\n",
    "G = Graph(vertices, edges, neighbours, weights, positions)\n",
    "dist, prev = Dijkstra(G, source, target)\n",
    "prev"
   ]
  }
 ],
 "metadata": {
  "interpreter": {
   "hash": "916dbcbb3f70747c44a77c7bcd40155683ae19c65e1c03b4aa3499c5328201f1"
  },
  "kernelspec": {
   "display_name": "Python 3.9.2 64-bit",
   "language": "python",
   "name": "python3"
  },
  "language_info": {
   "codemirror_mode": {
    "name": "ipython",
    "version": 3
   },
   "file_extension": ".py",
   "mimetype": "text/x-python",
   "name": "python",
   "nbconvert_exporter": "python",
   "pygments_lexer": "ipython3",
   "version": "3.9.2"
  },
  "orig_nbformat": 4
 },
 "nbformat": 4,
 "nbformat_minor": 2
}
